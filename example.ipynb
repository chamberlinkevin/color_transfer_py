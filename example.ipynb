{
 "cells": [
  {
   "cell_type": "markdown",
   "id": "fd89defb",
   "metadata": {},
   "source": [
    "# Color Transfer Using ColorTransferPy\n",
    "\n",
    "This notebook demonstrates how to use the ColorTransferPy library to transfer the color attributes (Hue, Saturation, Lightness) from one image to another."
   ]
  },
  {
   "cell_type": "code",
   "execution_count": 1,
   "id": "d7c32ecc",
   "metadata": {},
   "outputs": [
    {
     "name": "stdout",
     "output_type": "stream",
     "text": [
      "Requirement already satisfied: Pillow in /opt/conda/lib/python3.12/site-packages (10.4.0)\n",
      "Requirement already satisfied: opencv-python in /opt/conda/lib/python3.12/site-packages (4.10.0.84)\n",
      "Requirement already satisfied: matplotlib in /opt/conda/lib/python3.12/site-packages (3.9.2)\n",
      "Requirement already satisfied: numpy>=1.21.2 in /opt/conda/lib/python3.12/site-packages (from opencv-python) (2.0.1)\n",
      "Requirement already satisfied: contourpy>=1.0.1 in /opt/conda/lib/python3.12/site-packages (from matplotlib) (1.2.1)\n",
      "Requirement already satisfied: cycler>=0.10 in /opt/conda/lib/python3.12/site-packages (from matplotlib) (0.12.1)\n",
      "Requirement already satisfied: fonttools>=4.22.0 in /opt/conda/lib/python3.12/site-packages (from matplotlib) (4.53.1)\n",
      "Requirement already satisfied: kiwisolver>=1.3.1 in /opt/conda/lib/python3.12/site-packages (from matplotlib) (1.4.5)\n",
      "Requirement already satisfied: packaging>=20.0 in /opt/conda/lib/python3.12/site-packages (from matplotlib) (23.2)\n",
      "Requirement already satisfied: pyparsing>=2.3.1 in /opt/conda/lib/python3.12/site-packages (from matplotlib) (3.1.2)\n",
      "Requirement already satisfied: python-dateutil>=2.7 in /opt/conda/lib/python3.12/site-packages (from matplotlib) (2.9.0)\n",
      "Requirement already satisfied: six>=1.5 in /opt/conda/lib/python3.12/site-packages (from python-dateutil>=2.7->matplotlib) (1.16.0)\n",
      "\n",
      "\u001b[1m[\u001b[0m\u001b[34;49mnotice\u001b[0m\u001b[1;39;49m]\u001b[0m\u001b[39;49m A new release of pip is available: \u001b[0m\u001b[31;49m24.1.2\u001b[0m\u001b[39;49m -> \u001b[0m\u001b[32;49m24.2\u001b[0m\n",
      "\u001b[1m[\u001b[0m\u001b[34;49mnotice\u001b[0m\u001b[1;39;49m]\u001b[0m\u001b[39;49m To update, run: \u001b[0m\u001b[32;49mpip install --upgrade pip\u001b[0m\n"
     ]
    }
   ],
   "source": [
    "# Install necessary libraries if not already installed\n",
    "!pip install Pillow opencv-python matplotlib"
   ]
  },
  {
   "cell_type": "code",
   "execution_count": 2,
   "id": "67368cc1",
   "metadata": {},
   "outputs": [
    {
     "name": "stdout",
     "output_type": "stream",
     "text": [
      "Package Pillow==9.2.0 not found. Installing...\n"
     ]
    },
    {
     "name": "stdout",
     "output_type": "stream",
     "text": [
      "Collecting Pillow==9.2.0\n",
      "  Downloading Pillow-9.2.0.tar.gz (50.0 MB)\n",
      "\u001b[2K     \u001b[90m━━━━━━━━━━━━━━━━━━━━━━━━━━━━━━━━━━━━━━━━\u001b[0m \u001b[32m50.0/50.0 MB\u001b[0m \u001b[31m16.4 MB/s\u001b[0m eta \u001b[36m0:00:00\u001b[0m00:01\u001b[0m00:01\u001b[0m\n",
      "\u001b[?25h  Preparing metadata (setup.py): started\n",
      "  Preparing metadata (setup.py): finished with status 'done'\n",
      "Building wheels for collected packages: Pillow\n",
      "  Building wheel for Pillow (setup.py): started\n",
      "  Building wheel for Pillow (setup.py): finished with status 'error'\n",
      "  Running setup.py clean for Pillow\n"
     ]
    },
    {
     "name": "stderr",
     "output_type": "stream",
     "text": [
      "  \u001b[1;31merror\u001b[0m: \u001b[1msubprocess-exited-with-error\u001b[0m\n",
      "  \n",
      "  \u001b[31m×\u001b[0m \u001b[32mpython setup.py bdist_wheel\u001b[0m did not run successfully.\n",
      "  \u001b[31m│\u001b[0m exit code: \u001b[1;36m1\u001b[0m\n",
      "  \u001b[31m╰─>\u001b[0m \u001b[31m[189 lines of output]\u001b[0m\n",
      "  \u001b[31m   \u001b[0m running bdist_wheel\n",
      "  \u001b[31m   \u001b[0m running build\n",
      "  \u001b[31m   \u001b[0m running build_py\n",
      "  \u001b[31m   \u001b[0m creating build\n",
      "  \u001b[31m   \u001b[0m creating build/lib.linux-x86_64-cpython-312\n",
      "  \u001b[31m   \u001b[0m creating build/lib.linux-x86_64-cpython-312/PIL\n",
      "  \u001b[31m   \u001b[0m copying src/PIL/GifImagePlugin.py -> build/lib.linux-x86_64-cpython-312/PIL\n",
      "  \u001b[31m   \u001b[0m copying src/PIL/ImageFile.py -> build/lib.linux-x86_64-cpython-312/PIL\n",
      "  \u001b[31m   \u001b[0m copying src/PIL/BlpImagePlugin.py -> build/lib.linux-x86_64-cpython-312/PIL\n",
      "  \u001b[31m   \u001b[0m copying src/PIL/FontFile.py -> build/lib.linux-x86_64-cpython-312/PIL\n",
      "  \u001b[31m   \u001b[0m copying src/PIL/Jpeg2KImagePlugin.py -> build/lib.linux-x86_64-cpython-312/PIL\n",
      "  \u001b[31m   \u001b[0m copying src/PIL/BufrStubImagePlugin.py -> build/lib.linux-x86_64-cpython-312/PIL\n",
      "  \u001b[31m   \u001b[0m copying src/PIL/GribStubImagePlugin.py -> build/lib.linux-x86_64-cpython-312/PIL\n",
      "  \u001b[31m   \u001b[0m copying src/PIL/PcfFontFile.py -> build/lib.linux-x86_64-cpython-312/PIL\n",
      "  \u001b[31m   \u001b[0m copying src/PIL/MpegImagePlugin.py -> build/lib.linux-x86_64-cpython-312/PIL\n",
      "  \u001b[31m   \u001b[0m copying src/PIL/IcnsImagePlugin.py -> build/lib.linux-x86_64-cpython-312/PIL\n",
      "  \u001b[31m   \u001b[0m copying src/PIL/Hdf5StubImagePlugin.py -> build/lib.linux-x86_64-cpython-312/PIL\n",
      "  \u001b[31m   \u001b[0m copying src/PIL/GimpGradientFile.py -> build/lib.linux-x86_64-cpython-312/PIL\n",
      "  \u001b[31m   \u001b[0m copying src/PIL/ImImagePlugin.py -> build/lib.linux-x86_64-cpython-312/PIL\n",
      "  \u001b[31m   \u001b[0m copying src/PIL/ImageStat.py -> build/lib.linux-x86_64-cpython-312/PIL\n",
      "  \u001b[31m   \u001b[0m copying src/PIL/GdImageFile.py -> build/lib.linux-x86_64-cpython-312/PIL\n",
      "  \u001b[31m   \u001b[0m copying src/PIL/TarIO.py -> build/lib.linux-x86_64-cpython-312/PIL\n",
      "  \u001b[31m   \u001b[0m copying src/PIL/PngImagePlugin.py -> build/lib.linux-x86_64-cpython-312/PIL\n",
      "  \u001b[31m   \u001b[0m copying src/PIL/EpsImagePlugin.py -> build/lib.linux-x86_64-cpython-312/PIL\n",
      "  \u001b[31m   \u001b[0m copying src/PIL/PpmImagePlugin.py -> build/lib.linux-x86_64-cpython-312/PIL\n",
      "  \u001b[31m   \u001b[0m copying src/PIL/ImageDraw2.py -> build/lib.linux-x86_64-cpython-312/PIL\n",
      "  \u001b[31m   \u001b[0m copying src/PIL/PixarImagePlugin.py -> build/lib.linux-x86_64-cpython-312/PIL\n",
      "  \u001b[31m   \u001b[0m copying src/PIL/_version.py -> build/lib.linux-x86_64-cpython-312/PIL\n",
      "  \u001b[31m   \u001b[0m copying src/PIL/JpegImagePlugin.py -> build/lib.linux-x86_64-cpython-312/PIL\n",
      "  \u001b[31m   \u001b[0m copying src/PIL/MpoImagePlugin.py -> build/lib.linux-x86_64-cpython-312/PIL\n",
      "  \u001b[31m   \u001b[0m copying src/PIL/IcoImagePlugin.py -> build/lib.linux-x86_64-cpython-312/PIL\n",
      "  \u001b[31m   \u001b[0m copying src/PIL/_deprecate.py -> build/lib.linux-x86_64-cpython-312/PIL\n",
      "  \u001b[31m   \u001b[0m copying src/PIL/ImageOps.py -> build/lib.linux-x86_64-cpython-312/PIL\n",
      "  \u001b[31m   \u001b[0m copying src/PIL/ImageMath.py -> build/lib.linux-x86_64-cpython-312/PIL\n",
      "  \u001b[31m   \u001b[0m copying src/PIL/CurImagePlugin.py -> build/lib.linux-x86_64-cpython-312/PIL\n",
      "  \u001b[31m   \u001b[0m copying src/PIL/ImageQt.py -> build/lib.linux-x86_64-cpython-312/PIL\n",
      "  \u001b[31m   \u001b[0m copying src/PIL/XpmImagePlugin.py -> build/lib.linux-x86_64-cpython-312/PIL\n",
      "  \u001b[31m   \u001b[0m copying src/PIL/PsdImagePlugin.py -> build/lib.linux-x86_64-cpython-312/PIL\n",
      "  \u001b[31m   \u001b[0m copying src/PIL/ImageCms.py -> build/lib.linux-x86_64-cpython-312/PIL\n",
      "  \u001b[31m   \u001b[0m copying src/PIL/_util.py -> build/lib.linux-x86_64-cpython-312/PIL\n",
      "  \u001b[31m   \u001b[0m copying src/PIL/ImageWin.py -> build/lib.linux-x86_64-cpython-312/PIL\n",
      "  \u001b[31m   \u001b[0m copying src/PIL/ImageGrab.py -> build/lib.linux-x86_64-cpython-312/PIL\n",
      "  \u001b[31m   \u001b[0m copying src/PIL/GimpPaletteFile.py -> build/lib.linux-x86_64-cpython-312/PIL\n",
      "  \u001b[31m   \u001b[0m copying src/PIL/ImageColor.py -> build/lib.linux-x86_64-cpython-312/PIL\n",
      "  \u001b[31m   \u001b[0m copying src/PIL/_binary.py -> build/lib.linux-x86_64-cpython-312/PIL\n",
      "  \u001b[31m   \u001b[0m copying src/PIL/FitsStubImagePlugin.py -> build/lib.linux-x86_64-cpython-312/PIL\n",
      "  \u001b[31m   \u001b[0m copying src/PIL/PyAccess.py -> build/lib.linux-x86_64-cpython-312/PIL\n",
      "  \u001b[31m   \u001b[0m copying src/PIL/WebPImagePlugin.py -> build/lib.linux-x86_64-cpython-312/PIL\n",
      "  \u001b[31m   \u001b[0m copying src/PIL/ImageTk.py -> build/lib.linux-x86_64-cpython-312/PIL\n",
      "  \u001b[31m   \u001b[0m copying src/PIL/ExifTags.py -> build/lib.linux-x86_64-cpython-312/PIL\n",
      "  \u001b[31m   \u001b[0m copying src/PIL/TiffImagePlugin.py -> build/lib.linux-x86_64-cpython-312/PIL\n",
      "  \u001b[31m   \u001b[0m copying src/PIL/TgaImagePlugin.py -> build/lib.linux-x86_64-cpython-312/PIL\n",
      "  \u001b[31m   \u001b[0m copying src/PIL/_tkinter_finder.py -> build/lib.linux-x86_64-cpython-312/PIL\n",
      "  \u001b[31m   \u001b[0m copying src/PIL/MspImagePlugin.py -> build/lib.linux-x86_64-cpython-312/PIL\n",
      "  \u001b[31m   \u001b[0m copying src/PIL/DdsImagePlugin.py -> build/lib.linux-x86_64-cpython-312/PIL\n",
      "  \u001b[31m   \u001b[0m copying src/PIL/ImageFont.py -> build/lib.linux-x86_64-cpython-312/PIL\n",
      "  \u001b[31m   \u001b[0m copying src/PIL/ContainerIO.py -> build/lib.linux-x86_64-cpython-312/PIL\n",
      "  \u001b[31m   \u001b[0m copying src/PIL/PdfImagePlugin.py -> build/lib.linux-x86_64-cpython-312/PIL\n",
      "  \u001b[31m   \u001b[0m copying src/PIL/Image.py -> build/lib.linux-x86_64-cpython-312/PIL\n",
      "  \u001b[31m   \u001b[0m copying src/PIL/ImagePath.py -> build/lib.linux-x86_64-cpython-312/PIL\n",
      "  \u001b[31m   \u001b[0m copying src/PIL/MicImagePlugin.py -> build/lib.linux-x86_64-cpython-312/PIL\n",
      "  \u001b[31m   \u001b[0m copying src/PIL/SpiderImagePlugin.py -> build/lib.linux-x86_64-cpython-312/PIL\n",
      "  \u001b[31m   \u001b[0m copying src/PIL/PcxImagePlugin.py -> build/lib.linux-x86_64-cpython-312/PIL\n",
      "  \u001b[31m   \u001b[0m copying src/PIL/BdfFontFile.py -> build/lib.linux-x86_64-cpython-312/PIL\n",
      "  \u001b[31m   \u001b[0m copying src/PIL/PdfParser.py -> build/lib.linux-x86_64-cpython-312/PIL\n",
      "  \u001b[31m   \u001b[0m copying src/PIL/PcdImagePlugin.py -> build/lib.linux-x86_64-cpython-312/PIL\n",
      "  \u001b[31m   \u001b[0m copying src/PIL/FliImagePlugin.py -> build/lib.linux-x86_64-cpython-312/PIL\n",
      "  \u001b[31m   \u001b[0m copying src/PIL/SgiImagePlugin.py -> build/lib.linux-x86_64-cpython-312/PIL\n",
      "  \u001b[31m   \u001b[0m copying src/PIL/ImageShow.py -> build/lib.linux-x86_64-cpython-312/PIL\n",
      "  \u001b[31m   \u001b[0m copying src/PIL/WmfImagePlugin.py -> build/lib.linux-x86_64-cpython-312/PIL\n",
      "  \u001b[31m   \u001b[0m copying src/PIL/GbrImagePlugin.py -> build/lib.linux-x86_64-cpython-312/PIL\n",
      "  \u001b[31m   \u001b[0m copying src/PIL/WalImageFile.py -> build/lib.linux-x86_64-cpython-312/PIL\n",
      "  \u001b[31m   \u001b[0m copying src/PIL/ImageTransform.py -> build/lib.linux-x86_64-cpython-312/PIL\n",
      "  \u001b[31m   \u001b[0m copying src/PIL/ImageFilter.py -> build/lib.linux-x86_64-cpython-312/PIL\n",
      "  \u001b[31m   \u001b[0m copying src/PIL/SunImagePlugin.py -> build/lib.linux-x86_64-cpython-312/PIL\n",
      "  \u001b[31m   \u001b[0m copying src/PIL/DcxImagePlugin.py -> build/lib.linux-x86_64-cpython-312/PIL\n",
      "  \u001b[31m   \u001b[0m copying src/PIL/__init__.py -> build/lib.linux-x86_64-cpython-312/PIL\n",
      "  \u001b[31m   \u001b[0m copying src/PIL/FpxImagePlugin.py -> build/lib.linux-x86_64-cpython-312/PIL\n",
      "  \u001b[31m   \u001b[0m copying src/PIL/ImageDraw.py -> build/lib.linux-x86_64-cpython-312/PIL\n",
      "  \u001b[31m   \u001b[0m copying src/PIL/ImagePalette.py -> build/lib.linux-x86_64-cpython-312/PIL\n",
      "  \u001b[31m   \u001b[0m copying src/PIL/ImtImagePlugin.py -> build/lib.linux-x86_64-cpython-312/PIL\n",
      "  \u001b[31m   \u001b[0m copying src/PIL/XVThumbImagePlugin.py -> build/lib.linux-x86_64-cpython-312/PIL\n",
      "  \u001b[31m   \u001b[0m copying src/PIL/ImageSequence.py -> build/lib.linux-x86_64-cpython-312/PIL\n",
      "  \u001b[31m   \u001b[0m copying src/PIL/FitsImagePlugin.py -> build/lib.linux-x86_64-cpython-312/PIL\n",
      "  \u001b[31m   \u001b[0m copying src/PIL/ImageEnhance.py -> build/lib.linux-x86_64-cpython-312/PIL\n",
      "  \u001b[31m   \u001b[0m copying src/PIL/PalmImagePlugin.py -> build/lib.linux-x86_64-cpython-312/PIL\n",
      "  \u001b[31m   \u001b[0m copying src/PIL/PaletteFile.py -> build/lib.linux-x86_64-cpython-312/PIL\n",
      "  \u001b[31m   \u001b[0m copying src/PIL/features.py -> build/lib.linux-x86_64-cpython-312/PIL\n",
      "  \u001b[31m   \u001b[0m copying src/PIL/TiffTags.py -> build/lib.linux-x86_64-cpython-312/PIL\n",
      "  \u001b[31m   \u001b[0m copying src/PIL/__main__.py -> build/lib.linux-x86_64-cpython-312/PIL\n",
      "  \u001b[31m   \u001b[0m copying src/PIL/IptcImagePlugin.py -> build/lib.linux-x86_64-cpython-312/PIL\n",
      "  \u001b[31m   \u001b[0m copying src/PIL/ImageChops.py -> build/lib.linux-x86_64-cpython-312/PIL\n",
      "  \u001b[31m   \u001b[0m copying src/PIL/XbmImagePlugin.py -> build/lib.linux-x86_64-cpython-312/PIL\n",
      "  \u001b[31m   \u001b[0m copying src/PIL/JpegPresets.py -> build/lib.linux-x86_64-cpython-312/PIL\n",
      "  \u001b[31m   \u001b[0m copying src/PIL/FtexImagePlugin.py -> build/lib.linux-x86_64-cpython-312/PIL\n",
      "  \u001b[31m   \u001b[0m copying src/PIL/PSDraw.py -> build/lib.linux-x86_64-cpython-312/PIL\n",
      "  \u001b[31m   \u001b[0m copying src/PIL/McIdasImagePlugin.py -> build/lib.linux-x86_64-cpython-312/PIL\n",
      "  \u001b[31m   \u001b[0m copying src/PIL/ImageMode.py -> build/lib.linux-x86_64-cpython-312/PIL\n",
      "  \u001b[31m   \u001b[0m copying src/PIL/BmpImagePlugin.py -> build/lib.linux-x86_64-cpython-312/PIL\n",
      "  \u001b[31m   \u001b[0m copying src/PIL/ImageMorph.py -> build/lib.linux-x86_64-cpython-312/PIL\n",
      "  \u001b[31m   \u001b[0m running egg_info\n",
      "  \u001b[31m   \u001b[0m writing src/Pillow.egg-info/PKG-INFO\n",
      "  \u001b[31m   \u001b[0m writing dependency_links to src/Pillow.egg-info/dependency_links.txt\n",
      "  \u001b[31m   \u001b[0m writing requirements to src/Pillow.egg-info/requires.txt\n",
      "  \u001b[31m   \u001b[0m writing top-level names to src/Pillow.egg-info/top_level.txt\n",
      "  \u001b[31m   \u001b[0m reading manifest file 'src/Pillow.egg-info/SOURCES.txt'\n",
      "  \u001b[31m   \u001b[0m reading manifest template 'MANIFEST.in'\n",
      "  \u001b[31m   \u001b[0m warning: no files found matching '*.c'\n",
      "  \u001b[31m   \u001b[0m warning: no files found matching '*.h'\n",
      "  \u001b[31m   \u001b[0m warning: no files found matching '*.sh'\n",
      "  \u001b[31m   \u001b[0m warning: no files found matching '*.txt'\n",
      "  \u001b[31m   \u001b[0m warning: no previously-included files found matching '.appveyor.yml'\n",
      "  \u001b[31m   \u001b[0m warning: no previously-included files found matching '.clang-format'\n",
      "  \u001b[31m   \u001b[0m warning: no previously-included files found matching '.coveragerc'\n",
      "  \u001b[31m   \u001b[0m warning: no previously-included files found matching '.editorconfig'\n",
      "  \u001b[31m   \u001b[0m warning: no previously-included files found matching '.readthedocs.yml'\n",
      "  \u001b[31m   \u001b[0m warning: no previously-included files found matching 'codecov.yml'\n",
      "  \u001b[31m   \u001b[0m warning: no previously-included files matching '.git*' found anywhere in distribution\n",
      "  \u001b[31m   \u001b[0m warning: no previously-included files matching '*.pyc' found anywhere in distribution\n",
      "  \u001b[31m   \u001b[0m warning: no previously-included files matching '*.so' found anywhere in distribution\n",
      "  \u001b[31m   \u001b[0m no previously-included directories found matching '.ci'\n",
      "  \u001b[31m   \u001b[0m adding license file 'LICENSE'\n",
      "  \u001b[31m   \u001b[0m writing manifest file 'src/Pillow.egg-info/SOURCES.txt'\n",
      "  \u001b[31m   \u001b[0m running build_ext\n",
      "  \u001b[31m   \u001b[0m \n",
      "  \u001b[31m   \u001b[0m \n",
      "  \u001b[31m   \u001b[0m The headers or library files could not be found for jpeg,\n",
      "  \u001b[31m   \u001b[0m a required dependency when compiling Pillow from source.\n",
      "  \u001b[31m   \u001b[0m \n",
      "  \u001b[31m   \u001b[0m Please see the install instructions at:\n",
      "  \u001b[31m   \u001b[0m    https://pillow.readthedocs.io/en/latest/installation.html\n",
      "  \u001b[31m   \u001b[0m \n",
      "  \u001b[31m   \u001b[0m Traceback (most recent call last):\n",
      "  \u001b[31m   \u001b[0m   File \"/tmp/pip-install-ax73v00s/pillow_4c477fe1ba4c44c18bdf749e4b457ab2/setup.py\", line 995, in <module>\n",
      "  \u001b[31m   \u001b[0m     setup(\n",
      "  \u001b[31m   \u001b[0m   File \"/home/codespace/.local/lib/python3.12/site-packages/setuptools/__init__.py\", line 103, in setup\n",
      "  \u001b[31m   \u001b[0m     return distutils.core.setup(**attrs)\n",
      "  \u001b[31m   \u001b[0m            ^^^^^^^^^^^^^^^^^^^^^^^^^^^^^\n",
      "  \u001b[31m   \u001b[0m   File \"/home/codespace/.local/lib/python3.12/site-packages/setuptools/_distutils/core.py\", line 184, in setup\n",
      "  \u001b[31m   \u001b[0m     return run_commands(dist)\n",
      "  \u001b[31m   \u001b[0m            ^^^^^^^^^^^^^^^^^^\n",
      "  \u001b[31m   \u001b[0m   File \"/home/codespace/.local/lib/python3.12/site-packages/setuptools/_distutils/core.py\", line 200, in run_commands\n",
      "  \u001b[31m   \u001b[0m     dist.run_commands()\n",
      "  \u001b[31m   \u001b[0m   File \"/home/codespace/.local/lib/python3.12/site-packages/setuptools/_distutils/dist.py\", line 970, in run_commands\n",
      "  \u001b[31m   \u001b[0m     self.run_command(cmd)\n",
      "  \u001b[31m   \u001b[0m   File \"/home/codespace/.local/lib/python3.12/site-packages/setuptools/dist.py\", line 974, in run_command\n",
      "  \u001b[31m   \u001b[0m     super().run_command(command)\n",
      "  \u001b[31m   \u001b[0m   File \"/home/codespace/.local/lib/python3.12/site-packages/setuptools/_distutils/dist.py\", line 989, in run_command\n",
      "  \u001b[31m   \u001b[0m     cmd_obj.run()\n",
      "  \u001b[31m   \u001b[0m   File \"/home/codespace/.local/lib/python3.12/site-packages/setuptools/command/bdist_wheel.py\", line 373, in run\n",
      "  \u001b[31m   \u001b[0m     self.run_command(\"build\")\n",
      "  \u001b[31m   \u001b[0m   File \"/home/codespace/.local/lib/python3.12/site-packages/setuptools/_distutils/cmd.py\", line 316, in run_command\n",
      "  \u001b[31m   \u001b[0m     self.distribution.run_command(command)\n",
      "  \u001b[31m   \u001b[0m   File \"/home/codespace/.local/lib/python3.12/site-packages/setuptools/dist.py\", line 974, in run_command\n",
      "  \u001b[31m   \u001b[0m     super().run_command(command)\n",
      "  \u001b[31m   \u001b[0m   File \"/home/codespace/.local/lib/python3.12/site-packages/setuptools/_distutils/dist.py\", line 989, in run_command\n",
      "  \u001b[31m   \u001b[0m     cmd_obj.run()\n",
      "  \u001b[31m   \u001b[0m   File \"/home/codespace/.local/lib/python3.12/site-packages/setuptools/_distutils/command/build.py\", line 135, in run\n",
      "  \u001b[31m   \u001b[0m     self.run_command(cmd_name)\n",
      "  \u001b[31m   \u001b[0m   File \"/home/codespace/.local/lib/python3.12/site-packages/setuptools/_distutils/cmd.py\", line 316, in run_command\n",
      "  \u001b[31m   \u001b[0m     self.distribution.run_command(command)\n",
      "  \u001b[31m   \u001b[0m   File \"/home/codespace/.local/lib/python3.12/site-packages/setuptools/dist.py\", line 974, in run_command\n",
      "  \u001b[31m   \u001b[0m     super().run_command(command)\n",
      "  \u001b[31m   \u001b[0m   File \"/home/codespace/.local/lib/python3.12/site-packages/setuptools/_distutils/dist.py\", line 989, in run_command\n",
      "  \u001b[31m   \u001b[0m     cmd_obj.run()\n",
      "  \u001b[31m   \u001b[0m   File \"/home/codespace/.local/lib/python3.12/site-packages/setuptools/command/build_ext.py\", line 93, in run\n",
      "  \u001b[31m   \u001b[0m     _build_ext.run(self)\n",
      "  \u001b[31m   \u001b[0m   File \"/home/codespace/.local/lib/python3.12/site-packages/setuptools/_distutils/command/build_ext.py\", line 359, in run\n",
      "  \u001b[31m   \u001b[0m     self.build_extensions()\n",
      "  \u001b[31m   \u001b[0m   File \"/tmp/pip-install-ax73v00s/pillow_4c477fe1ba4c44c18bdf749e4b457ab2/setup.py\", line 810, in build_extensions\n",
      "  \u001b[31m   \u001b[0m     raise RequiredDependencyException(f)\n",
      "  \u001b[31m   \u001b[0m RequiredDependencyException: jpeg\n",
      "  \u001b[31m   \u001b[0m \n",
      "  \u001b[31m   \u001b[0m During handling of the above exception, another exception occurred:\n",
      "  \u001b[31m   \u001b[0m \n",
      "  \u001b[31m   \u001b[0m Traceback (most recent call last):\n",
      "  \u001b[31m   \u001b[0m   File \"<string>\", line 2, in <module>\n",
      "  \u001b[31m   \u001b[0m   File \"<pip-setuptools-caller>\", line 34, in <module>\n",
      "  \u001b[31m   \u001b[0m   File \"/tmp/pip-install-ax73v00s/pillow_4c477fe1ba4c44c18bdf749e4b457ab2/setup.py\", line 1015, in <module>\n",
      "  \u001b[31m   \u001b[0m     raise RequiredDependencyException(msg)\n",
      "  \u001b[31m   \u001b[0m RequiredDependencyException:\n",
      "  \u001b[31m   \u001b[0m \n",
      "  \u001b[31m   \u001b[0m The headers or library files could not be found for jpeg,\n",
      "  \u001b[31m   \u001b[0m a required dependency when compiling Pillow from source.\n",
      "  \u001b[31m   \u001b[0m \n",
      "  \u001b[31m   \u001b[0m Please see the install instructions at:\n",
      "  \u001b[31m   \u001b[0m    https://pillow.readthedocs.io/en/latest/installation.html\n",
      "  \u001b[31m   \u001b[0m \n",
      "  \u001b[31m   \u001b[0m \n",
      "  \u001b[31m   \u001b[0m \u001b[31m[end of output]\u001b[0m\n",
      "  \n",
      "  \u001b[1;35mnote\u001b[0m: This error originates from a subprocess, and is likely not a problem with pip.\n",
      "\u001b[31m  ERROR: Failed building wheel for Pillow\u001b[0m\u001b[31m\n",
      "\u001b[0m\u001b[31mERROR: ERROR: Failed to build installable wheels for some pyproject.toml based projects (Pillow)\u001b[0m\u001b[31m\n",
      "\u001b[0m"
     ]
    },
    {
     "name": "stdout",
     "output_type": "stream",
     "text": [
      "Failed to build Pillow\n"
     ]
    },
    {
     "name": "stderr",
     "output_type": "stream",
     "text": [
      "\n",
      "\u001b[1m[\u001b[0m\u001b[34;49mnotice\u001b[0m\u001b[1;39;49m]\u001b[0m\u001b[39;49m A new release of pip is available: \u001b[0m\u001b[31;49m24.1.2\u001b[0m\u001b[39;49m -> \u001b[0m\u001b[32;49m24.2\u001b[0m\n",
      "\u001b[1m[\u001b[0m\u001b[34;49mnotice\u001b[0m\u001b[1;39;49m]\u001b[0m\u001b[39;49m To update, run: \u001b[0m\u001b[32;49mpip install --upgrade pip\u001b[0m\n"
     ]
    },
    {
     "ename": "CalledProcessError",
     "evalue": "Command '['pip', 'install', 'Pillow==9.2.0']' returned non-zero exit status 1.",
     "output_type": "error",
     "traceback": [
      "\u001b[0;31m---------------------------------------------------------------------------\u001b[0m",
      "\u001b[0;31mCalledProcessError\u001b[0m                        Traceback (most recent call last)",
      "Cell \u001b[0;32mIn[2], line 1\u001b[0m\n\u001b[0;32m----> 1\u001b[0m \u001b[38;5;28;01mfrom\u001b[39;00m \u001b[38;5;21;01mColorTransferPy\u001b[39;00m \u001b[38;5;28;01mimport\u001b[39;00m transfer_image_colors\n\u001b[1;32m      2\u001b[0m \u001b[38;5;28;01mfrom\u001b[39;00m \u001b[38;5;21;01mPIL\u001b[39;00m \u001b[38;5;28;01mimport\u001b[39;00m Image\n\u001b[1;32m      3\u001b[0m \u001b[38;5;28;01mimport\u001b[39;00m \u001b[38;5;21;01mmatplotlib\u001b[39;00m\u001b[38;5;21;01m.\u001b[39;00m\u001b[38;5;21;01mpyplot\u001b[39;00m \u001b[38;5;28;01mas\u001b[39;00m \u001b[38;5;21;01mplt\u001b[39;00m\n",
      "File \u001b[0;32m/workspaces/color_transfer_py/ColorTransferPy/__init__.py:1\u001b[0m\n\u001b[0;32m----> 1\u001b[0m \u001b[38;5;28;01mfrom\u001b[39;00m \u001b[38;5;21;01m.\u001b[39;00m\u001b[38;5;21;01mcolor_transfer\u001b[39;00m \u001b[38;5;28;01mimport\u001b[39;00m transfer_image_colors\n",
      "File \u001b[0;32m/workspaces/color_transfer_py/ColorTransferPy/color_transfer.py:3\u001b[0m\n\u001b[1;32m      1\u001b[0m \u001b[38;5;28;01mfrom\u001b[39;00m \u001b[38;5;21;01mcheck_and_install_requirements\u001b[39;00m \u001b[38;5;28;01mimport\u001b[39;00m check_and_install_requirements\n\u001b[0;32m----> 3\u001b[0m \u001b[43mcheck_and_install_requirements\u001b[49m\u001b[43m(\u001b[49m\u001b[43m)\u001b[49m\n\u001b[1;32m      5\u001b[0m \u001b[38;5;28;01mfrom\u001b[39;00m \u001b[38;5;21;01mPIL\u001b[39;00m \u001b[38;5;28;01mimport\u001b[39;00m Image\n\u001b[1;32m      6\u001b[0m \u001b[38;5;28;01mimport\u001b[39;00m \u001b[38;5;21;01mcv2\u001b[39;00m\n",
      "File \u001b[0;32m/workspaces/color_transfer_py/check_and_install_requirements.py:18\u001b[0m, in \u001b[0;36mcheck_and_install_requirements\u001b[0;34m(requirements_file)\u001b[0m\n\u001b[1;32m     16\u001b[0m \u001b[38;5;28;01mif\u001b[39;00m package_name \u001b[38;5;129;01mnot\u001b[39;00m \u001b[38;5;129;01min\u001b[39;00m installed_packages:\n\u001b[1;32m     17\u001b[0m     \u001b[38;5;28mprint\u001b[39m(\u001b[38;5;124mf\u001b[39m\u001b[38;5;124m\"\u001b[39m\u001b[38;5;124mPackage \u001b[39m\u001b[38;5;132;01m{\u001b[39;00mrequirement\u001b[38;5;132;01m}\u001b[39;00m\u001b[38;5;124m not found. Installing...\u001b[39m\u001b[38;5;124m\"\u001b[39m)\n\u001b[0;32m---> 18\u001b[0m     \u001b[43minstall\u001b[49m\u001b[43m(\u001b[49m\u001b[43mrequirement\u001b[49m\u001b[43m)\u001b[49m\n\u001b[1;32m     19\u001b[0m \u001b[38;5;28;01melse\u001b[39;00m:\n\u001b[1;32m     20\u001b[0m     \u001b[38;5;28mprint\u001b[39m(\u001b[38;5;124mf\u001b[39m\u001b[38;5;124m\"\u001b[39m\u001b[38;5;124mPackage \u001b[39m\u001b[38;5;132;01m{\u001b[39;00mrequirement\u001b[38;5;132;01m}\u001b[39;00m\u001b[38;5;124m is already installed.\u001b[39m\u001b[38;5;124m\"\u001b[39m)\n",
      "File \u001b[0;32m/workspaces/color_transfer_py/check_and_install_requirements.py:5\u001b[0m, in \u001b[0;36minstall\u001b[0;34m(package)\u001b[0m\n\u001b[1;32m      4\u001b[0m \u001b[38;5;28;01mdef\u001b[39;00m \u001b[38;5;21minstall\u001b[39m(package):\n\u001b[0;32m----> 5\u001b[0m     \u001b[43msubprocess\u001b[49m\u001b[38;5;241;43m.\u001b[39;49m\u001b[43mcheck_call\u001b[49m\u001b[43m(\u001b[49m\u001b[43m[\u001b[49m\u001b[38;5;124;43m\"\u001b[39;49m\u001b[38;5;124;43mpip\u001b[39;49m\u001b[38;5;124;43m\"\u001b[39;49m\u001b[43m,\u001b[49m\u001b[43m \u001b[49m\u001b[38;5;124;43m\"\u001b[39;49m\u001b[38;5;124;43minstall\u001b[39;49m\u001b[38;5;124;43m\"\u001b[39;49m\u001b[43m,\u001b[49m\u001b[43m \u001b[49m\u001b[43mpackage\u001b[49m\u001b[43m]\u001b[49m\u001b[43m)\u001b[49m\n",
      "File \u001b[0;32m/opt/conda/lib/python3.12/subprocess.py:413\u001b[0m, in \u001b[0;36mcheck_call\u001b[0;34m(*popenargs, **kwargs)\u001b[0m\n\u001b[1;32m    411\u001b[0m     \u001b[38;5;28;01mif\u001b[39;00m cmd \u001b[38;5;129;01mis\u001b[39;00m \u001b[38;5;28;01mNone\u001b[39;00m:\n\u001b[1;32m    412\u001b[0m         cmd \u001b[38;5;241m=\u001b[39m popenargs[\u001b[38;5;241m0\u001b[39m]\n\u001b[0;32m--> 413\u001b[0m     \u001b[38;5;28;01mraise\u001b[39;00m CalledProcessError(retcode, cmd)\n\u001b[1;32m    414\u001b[0m \u001b[38;5;28;01mreturn\u001b[39;00m \u001b[38;5;241m0\u001b[39m\n",
      "\u001b[0;31mCalledProcessError\u001b[0m: Command '['pip', 'install', 'Pillow==9.2.0']' returned non-zero exit status 1."
     ]
    }
   ],
   "source": [
    "from ColorTransferPy import transfer_image_colors\n",
    "from PIL import Image\n",
    "import matplotlib.pyplot as plt\n",
    "import cv2\n",
    "import os\n"
   ]
  },
  {
   "cell_type": "markdown",
   "id": "7b95805f",
   "metadata": {},
   "source": [
    "## Define Image Paths"
   ]
  },
  {
   "cell_type": "code",
   "execution_count": null,
   "id": "7d8f8264",
   "metadata": {},
   "outputs": [],
   "source": [
    "# Paths to the source and target images\n",
    "source_image_path = 'sunrise_horses.jpg'\n",
    "target_image_path = 'city_construction.jpg'\n",
    "output_image_path = 'out_sunrise_construction.jpg'"
   ]
  },
  {
   "cell_type": "markdown",
   "id": "d6474e29",
   "metadata": {},
   "source": [
    "## Display Original Images"
   ]
  },
  {
   "cell_type": "code",
   "execution_count": null,
   "id": "6196fe14",
   "metadata": {
    "scrolled": true
   },
   "outputs": [
    {
     "data": {
      "text/html": [
       "<div>\n",
       "<figure>\n",
       "<img src=\"attachment:source.jpg\" alt=\"Source Image\" width=\"400\">\n",
       "<figcaption>Source Image</figcaption>\n",
       "</figure>\n",
       "<figure>\n",
       "<img src=\"attachment:target.jpg\" alt=\"Target Image\" width=\"400\">\n",
       "<figcaption>Target Image</figcaption>\n",
       "</figure>\n",
       "</div>"
      ],
      "text/plain": [
       "<Figure size 2000x800 with 2 Axes>"
      ]
     },
     "metadata": {},
     "output_type": "display_data"
    }
   ],
   "source": [
    "# Load and display the source and target images\n",
    "source_image = Image.open(source_image_path)\n",
    "target_image = Image.open(target_image_path)\n",
    "\n",
    "# Plot the images\n",
    "fig, axes = plt.subplots(1, 2, figsize=(10, 4))\n",
    "axes[0].imshow(source_image)\n",
    "axes[0].set_title('Source Image')\n",
    "axes[0].axis('off')\n",
    "axes[1].imshow(target_image)\n",
    "axes[1].set_title('Target Image')\n",
    "axes[1].axis('off')\n",
    "plt.show()"
   ]
  },
  {
   "cell_type": "markdown",
   "id": "2235a221",
   "metadata": {},
   "source": [
    "## Transfer Colors"
   ]
  },
  {
   "cell_type": "code",
   "execution_count": null,
   "id": "d34b78e1",
   "metadata": {},
   "outputs": [],
   "source": [
    "# Perform color transfer\n",
    "transfer_image_colors(source_image_path, target_image_path, output_image_path)"
   ]
  },
  {
   "cell_type": "markdown",
   "id": "cac120c4",
   "metadata": {},
   "source": [
    "## Display Output Image"
   ]
  },
  {
   "cell_type": "code",
   "execution_count": null,
   "id": "11c5f4da",
   "metadata": {
    "scrolled": true
   },
   "outputs": [
    {
     "data": {
      "text/html": [
       "<div>\n",
       "<figure>\n",
       "<img src=\"attachment:output.jpg\" alt=\"Output Image\" width=\"400\">\n",
       "<figcaption>Output Image</figcaption>\n",
       "</figure>\n",
       "</div>"
      ],
      "text/plain": [
       "<Axes: title={'center': 'Output Image'}>"
      ]
     },
     "metadata": {},
     "output_type": "display_data"
    }
   ],
   "source": [
    "# Load and display the output image\n",
    "output_image = Image.open(output_image_path)\n",
    "\n",
    "# Plot the output image\n",
    "plt.figure(figsize=(5, 5))\n",
    "plt.imshow(output_image)\n",
    "plt.title('Output Image')\n",
    "plt.axis('off')\n",
    "plt.show()"
   ]
  }
 ],
 "metadata": {
  "kernelspec": {
   "display_name": "Python 3",
   "language": "python",
   "name": "python3"
  },
  "language_info": {
   "codemirror_mode": {
    "name": "ipython",
    "version": 3
   },
   "file_extension": ".py",
   "mimetype": "text/x-python",
   "name": "python",
   "nbconvert_exporter": "python",
   "pygments_lexer": "ipython3",
   "version": "3.12.2"
  }
 },
 "nbformat": 4,
 "nbformat_minor": 5
}
