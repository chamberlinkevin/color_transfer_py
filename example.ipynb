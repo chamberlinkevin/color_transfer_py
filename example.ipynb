{
 "cells": [
  {
   "cell_type": "markdown",
   "id": "fd89defb",
   "metadata": {},
   "source": [
    "# Color Transfer Using ColorTransferPy\n",
    "\n",
    "This notebook demonstrates how to use the ColorTransferPy library to transfer the color attributes (Hue, Saturation, Lightness) from one image to another."
   ]
  },
  {
   "cell_type": "code",
   "execution_count": 1,
   "id": "d7c32ecc",
   "metadata": {},
   "outputs": [
    {
     "name": "stdout",
     "output_type": "stream",
     "text": [
      "Requirement already satisfied: pip in /usr/local/python/3.10.13/lib/python3.10/site-packages (24.2)\n",
      "Requirement already satisfied: Pillow in /usr/local/python/3.10.13/lib/python3.10/site-packages (9.2.0)\n",
      "Requirement already satisfied: opencv-python in /usr/local/python/3.10.13/lib/python3.10/site-packages (4.10.0.84)\n",
      "Requirement already satisfied: matplotlib in /home/codespace/.local/lib/python3.10/site-packages (3.9.1)\n",
      "Requirement already satisfied: numpy>=1.21.2 in /usr/local/python/3.10.13/lib/python3.10/site-packages (from opencv-python) (2.0.1)\n",
      "Requirement already satisfied: contourpy>=1.0.1 in /home/codespace/.local/lib/python3.10/site-packages (from matplotlib) (1.2.1)\n",
      "Requirement already satisfied: cycler>=0.10 in /home/codespace/.local/lib/python3.10/site-packages (from matplotlib) (0.12.1)\n",
      "Requirement already satisfied: fonttools>=4.22.0 in /home/codespace/.local/lib/python3.10/site-packages (from matplotlib) (4.53.1)\n",
      "Requirement already satisfied: kiwisolver>=1.3.1 in /home/codespace/.local/lib/python3.10/site-packages (from matplotlib) (1.4.5)\n",
      "Requirement already satisfied: packaging>=20.0 in /home/codespace/.local/lib/python3.10/site-packages (from matplotlib) (24.1)\n",
      "Requirement already satisfied: pyparsing>=2.3.1 in /home/codespace/.local/lib/python3.10/site-packages (from matplotlib) (3.1.2)\n",
      "Requirement already satisfied: python-dateutil>=2.7 in /home/codespace/.local/lib/python3.10/site-packages (from matplotlib) (2.9.0.post0)\n",
      "Requirement already satisfied: six>=1.5 in /home/codespace/.local/lib/python3.10/site-packages (from python-dateutil>=2.7->matplotlib) (1.16.0)\n"
     ]
    }
   ],
   "source": [
    "# Install necessary libraries if not already installed\n",
    "!pip install --upgrade pip\n",
    "!pip install Pillow opencv-python matplotlib"
   ]
  },
  {
   "cell_type": "code",
   "execution_count": 2,
   "id": "e4a7185a",
   "metadata": {},
   "outputs": [
    {
     "name": "stdout",
     "output_type": "stream",
     "text": [
      "['/usr/local/python/3.10.13/lib/python310.zip', '/usr/local/python/3.10.13/lib/python3.10', '/usr/local/python/3.10.13/lib/python3.10/lib-dynload', '', '/home/codespace/.local/lib/python3.10/site-packages', '/usr/local/python/3.10.13/lib/python3.10/site-packages', '/usr/local/python/3.10.13/lib/python3.10/site-packages']\n"
     ]
    }
   ],
   "source": [
    "import sys, os\n",
    "sys.path.append(\"/usr/local/python/3.10.13/lib/python3.10/site-packages\")\n",
    "print(sys.path)"
   ]
  },
  {
   "cell_type": "code",
   "execution_count": 4,
   "id": "67368cc1",
   "metadata": {},
   "outputs": [
    {
     "ename": "ImportError",
     "evalue": "libGL.so.1: cannot open shared object file: No such file or directory",
     "output_type": "error",
     "traceback": [
      "\u001b[0;31m---------------------------------------------------------------------------\u001b[0m",
      "\u001b[0;31mImportError\u001b[0m                               Traceback (most recent call last)",
      "Cell \u001b[0;32mIn[4], line 1\u001b[0m\n\u001b[0;32m----> 1\u001b[0m \u001b[38;5;28;01mimport\u001b[39;00m \u001b[38;5;21;01mcv2\u001b[39;00m\n\u001b[1;32m      2\u001b[0m \u001b[38;5;28;01mimport\u001b[39;00m \u001b[38;5;21;01mos\u001b[39;00m\n\u001b[1;32m      3\u001b[0m \u001b[38;5;28;01mfrom\u001b[39;00m \u001b[38;5;21;01mColorTransferPy\u001b[39;00m \u001b[38;5;28;01mimport\u001b[39;00m transfer_image_colors\n",
      "\u001b[0;31mImportError\u001b[0m: libGL.so.1: cannot open shared object file: No such file or directory"
     ]
    }
   ],
   "source": [
    "import cv2\n",
    "import os\n",
    "from ColorTransferPy import transfer_image_colors\n",
    "from PIL import Image\n",
    "import matplotlib.pyplot as plt\n",
    "\n"
   ]
  },
  {
   "cell_type": "markdown",
   "id": "7b95805f",
   "metadata": {},
   "source": [
    "## Define Image Paths"
   ]
  },
  {
   "cell_type": "code",
   "execution_count": null,
   "id": "7d8f8264",
   "metadata": {},
   "outputs": [],
   "source": [
    "# Paths to the source and target images\n",
    "source_image_path = 'sunrise_horses.jpg'\n",
    "target_image_path = 'city_construction.jpg'\n",
    "output_image_path = 'out_sunrise_construction.jpg'"
   ]
  },
  {
   "cell_type": "markdown",
   "id": "d6474e29",
   "metadata": {},
   "source": [
    "## Display Original Images"
   ]
  },
  {
   "cell_type": "code",
   "execution_count": null,
   "id": "6196fe14",
   "metadata": {
    "scrolled": true
   },
   "outputs": [
    {
     "data": {
      "text/html": [
       "<div>\n",
       "<figure>\n",
       "<img src=\"attachment:source.jpg\" alt=\"Source Image\" width=\"400\">\n",
       "<figcaption>Source Image</figcaption>\n",
       "</figure>\n",
       "<figure>\n",
       "<img src=\"attachment:target.jpg\" alt=\"Target Image\" width=\"400\">\n",
       "<figcaption>Target Image</figcaption>\n",
       "</figure>\n",
       "</div>"
      ],
      "text/plain": [
       "<Figure size 2000x800 with 2 Axes>"
      ]
     },
     "metadata": {},
     "output_type": "display_data"
    }
   ],
   "source": [
    "# Load and display the source and target images\n",
    "source_image = Image.open(source_image_path)\n",
    "target_image = Image.open(target_image_path)\n",
    "\n",
    "# Plot the images\n",
    "fig, axes = plt.subplots(1, 2, figsize=(10, 4))\n",
    "axes[0].imshow(source_image)\n",
    "axes[0].set_title('Source Image')\n",
    "axes[0].axis('off')\n",
    "axes[1].imshow(target_image)\n",
    "axes[1].set_title('Target Image')\n",
    "axes[1].axis('off')\n",
    "plt.show()"
   ]
  },
  {
   "cell_type": "markdown",
   "id": "2235a221",
   "metadata": {},
   "source": [
    "## Transfer Colors"
   ]
  },
  {
   "cell_type": "code",
   "execution_count": null,
   "id": "d34b78e1",
   "metadata": {},
   "outputs": [],
   "source": [
    "# Perform color transfer\n",
    "transfer_image_colors(source_image_path, target_image_path, output_image_path)"
   ]
  },
  {
   "cell_type": "markdown",
   "id": "cac120c4",
   "metadata": {},
   "source": [
    "## Display Output Image"
   ]
  },
  {
   "cell_type": "code",
   "execution_count": null,
   "id": "11c5f4da",
   "metadata": {
    "scrolled": true
   },
   "outputs": [
    {
     "data": {
      "text/html": [
       "<div>\n",
       "<figure>\n",
       "<img src=\"attachment:output.jpg\" alt=\"Output Image\" width=\"400\">\n",
       "<figcaption>Output Image</figcaption>\n",
       "</figure>\n",
       "</div>"
      ],
      "text/plain": [
       "<Axes: title={'center': 'Output Image'}>"
      ]
     },
     "metadata": {},
     "output_type": "display_data"
    }
   ],
   "source": [
    "# Load and display the output image\n",
    "output_image = Image.open(output_image_path)\n",
    "\n",
    "# Plot the output image\n",
    "plt.figure(figsize=(5, 5))\n",
    "plt.imshow(output_image)\n",
    "plt.title('Output Image')\n",
    "plt.axis('off')\n",
    "plt.show()"
   ]
  }
 ],
 "metadata": {
  "kernelspec": {
   "display_name": "Python 3",
   "language": "python",
   "name": "python3"
  },
  "language_info": {
   "codemirror_mode": {
    "name": "ipython",
    "version": 3
   },
   "file_extension": ".py",
   "mimetype": "text/x-python",
   "name": "python",
   "nbconvert_exporter": "python",
   "pygments_lexer": "ipython3",
   "version": "3.12.2"
  }
 },
 "nbformat": 4,
 "nbformat_minor": 5
}
